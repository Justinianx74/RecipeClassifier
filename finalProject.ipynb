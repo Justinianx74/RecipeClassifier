{
 "cells": [
  {
   "cell_type": "markdown",
   "metadata": {},
   "source": [
    "# Load Data"
   ]
  },
  {
   "cell_type": "code",
   "execution_count": 1,
   "metadata": {},
   "outputs": [
    {
     "data": {
      "text/html": [
       "<div>\n",
       "<style scoped>\n",
       "    .dataframe tbody tr th:only-of-type {\n",
       "        vertical-align: middle;\n",
       "    }\n",
       "\n",
       "    .dataframe tbody tr th {\n",
       "        vertical-align: top;\n",
       "    }\n",
       "\n",
       "    .dataframe thead th {\n",
       "        text-align: right;\n",
       "    }\n",
       "</style>\n",
       "<table border=\"1\" class=\"dataframe\">\n",
       "  <thead>\n",
       "    <tr style=\"text-align: right;\">\n",
       "      <th></th>\n",
       "      <th>URL</th>\n",
       "      <th>Ingredients</th>\n",
       "      <th>Steps</th>\n",
       "      <th>Cuisine</th>\n",
       "    </tr>\n",
       "  </thead>\n",
       "  <tbody>\n",
       "    <tr>\n",
       "      <th>0</th>\n",
       "      <td>https://www.seriouseats.com/the-best-slow-cook...</td>\n",
       "      <td>['cans whole peeled tomatoes, preferably impor...</td>\n",
       "      <td>['\\nAdjust oven rack to lower position and pre...</td>\n",
       "      <td>['Tomato Sauces', 'Italian-American']</td>\n",
       "    </tr>\n",
       "    <tr>\n",
       "      <th>1</th>\n",
       "      <td>https://www.seriouseats.com/american-wheat-ale...</td>\n",
       "      <td>['pounds Two-Row malt, crushed', 'pounds Malte...</td>\n",
       "      <td>['\\nLine the 7.5 gallon kettle with the mesh b...</td>\n",
       "      <td>['Beer']</td>\n",
       "    </tr>\n",
       "    <tr>\n",
       "      <th>2</th>\n",
       "      <td>https://www.seriouseats.com/roasted-delicata-s...</td>\n",
       "      <td>['tablespoons  extra-virgin olive oil, divided...</td>\n",
       "      <td>['\\nAdjust oven rack to lowest position and pr...</td>\n",
       "      <td>['Winter Squash', 'Kale']</td>\n",
       "    </tr>\n",
       "    <tr>\n",
       "      <th>3</th>\n",
       "      <td>https://www.seriouseats.com/roasted-sweet-pota...</td>\n",
       "      <td>['For the Cookie Crust:', 'ounces  fine cookie...</td>\n",
       "      <td>['\\nFor the Cookie Crust: If using a two-piece...</td>\n",
       "      <td>['Cheesecakes', 'Sweet Potatoes']</td>\n",
       "    </tr>\n",
       "    <tr>\n",
       "      <th>4</th>\n",
       "      <td>https://www.seriouseats.com/butternut-squash-p...</td>\n",
       "      <td>['large butternut squash', 'Neutral oil, such ...</td>\n",
       "      <td>[\"\\nAdjust oven rack to middle position and pr...</td>\n",
       "      <td>['Butternut Squash', 'Thanksgiving', 'Thanksgi...</td>\n",
       "    </tr>\n",
       "    <tr>\n",
       "      <th>...</th>\n",
       "      <td>...</td>\n",
       "      <td>...</td>\n",
       "      <td>...</td>\n",
       "      <td>...</td>\n",
       "    </tr>\n",
       "    <tr>\n",
       "      <th>4748</th>\n",
       "      <td>https://www.seriouseats.com/turkey-bacon-brocc...</td>\n",
       "      <td>['loaf hearty pumpernickel or other rye bread,...</td>\n",
       "      <td>['\\nAdjust oven rack to center position and pr...</td>\n",
       "      <td>['Sandwiches', 'British', 'Bacon', 'Turkey', '...</td>\n",
       "    </tr>\n",
       "    <tr>\n",
       "      <th>4749</th>\n",
       "      <td>https://www.seriouseats.com/muffuletta-shooter...</td>\n",
       "      <td>['hearty loaf of bread, preferably sesame-crus...</td>\n",
       "      <td>['\\nSlice off the top 1 to 1 1/2-inches of the...</td>\n",
       "      <td>['Sandwiches', 'Italian-American', 'Soul Food ...</td>\n",
       "    </tr>\n",
       "    <tr>\n",
       "      <th>4750</th>\n",
       "      <td>https://www.seriouseats.com/shanghai-baby-bok-...</td>\n",
       "      <td>['Kosher salt', 'ounces Shanghai baby bok choy...</td>\n",
       "      <td>['\\nBring a large pot of salted water to a boi...</td>\n",
       "      <td>['Chinese', 'Dairy-free Sides', 'Vegan Sides',...</td>\n",
       "    </tr>\n",
       "    <tr>\n",
       "      <th>4751</th>\n",
       "      <td>https://www.seriouseats.com/how-to-brew-sour-b...</td>\n",
       "      <td>['cups Briess light dry malt extract', '. poun...</td>\n",
       "      <td>['\\nIn a medium saucepan, bring 1 liter of wat...</td>\n",
       "      <td>['Beer']</td>\n",
       "    </tr>\n",
       "    <tr>\n",
       "      <th>4752</th>\n",
       "      <td>https://www.seriouseats.com/food-lab-no-boil-b...</td>\n",
       "      <td>['pound ziti, penne, or other thick tubular pa...</td>\n",
       "      <td>['\\nAdjust an oven rack to the middle position...</td>\n",
       "      <td>['Baked Pasta', 'Italian-American', 'Pastas', ...</td>\n",
       "    </tr>\n",
       "  </tbody>\n",
       "</table>\n",
       "<p>4753 rows × 4 columns</p>\n",
       "</div>"
      ],
      "text/plain": [
       "                                                    URL  \\\n",
       "0     https://www.seriouseats.com/the-best-slow-cook...   \n",
       "1     https://www.seriouseats.com/american-wheat-ale...   \n",
       "2     https://www.seriouseats.com/roasted-delicata-s...   \n",
       "3     https://www.seriouseats.com/roasted-sweet-pota...   \n",
       "4     https://www.seriouseats.com/butternut-squash-p...   \n",
       "...                                                 ...   \n",
       "4748  https://www.seriouseats.com/turkey-bacon-brocc...   \n",
       "4749  https://www.seriouseats.com/muffuletta-shooter...   \n",
       "4750  https://www.seriouseats.com/shanghai-baby-bok-...   \n",
       "4751  https://www.seriouseats.com/how-to-brew-sour-b...   \n",
       "4752  https://www.seriouseats.com/food-lab-no-boil-b...   \n",
       "\n",
       "                                            Ingredients  \\\n",
       "0     ['cans whole peeled tomatoes, preferably impor...   \n",
       "1     ['pounds Two-Row malt, crushed', 'pounds Malte...   \n",
       "2     ['tablespoons  extra-virgin olive oil, divided...   \n",
       "3     ['For the Cookie Crust:', 'ounces  fine cookie...   \n",
       "4     ['large butternut squash', 'Neutral oil, such ...   \n",
       "...                                                 ...   \n",
       "4748  ['loaf hearty pumpernickel or other rye bread,...   \n",
       "4749  ['hearty loaf of bread, preferably sesame-crus...   \n",
       "4750  ['Kosher salt', 'ounces Shanghai baby bok choy...   \n",
       "4751  ['cups Briess light dry malt extract', '. poun...   \n",
       "4752  ['pound ziti, penne, or other thick tubular pa...   \n",
       "\n",
       "                                                  Steps  \\\n",
       "0     ['\\nAdjust oven rack to lower position and pre...   \n",
       "1     ['\\nLine the 7.5 gallon kettle with the mesh b...   \n",
       "2     ['\\nAdjust oven rack to lowest position and pr...   \n",
       "3     ['\\nFor the Cookie Crust: If using a two-piece...   \n",
       "4     [\"\\nAdjust oven rack to middle position and pr...   \n",
       "...                                                 ...   \n",
       "4748  ['\\nAdjust oven rack to center position and pr...   \n",
       "4749  ['\\nSlice off the top 1 to 1 1/2-inches of the...   \n",
       "4750  ['\\nBring a large pot of salted water to a boi...   \n",
       "4751  ['\\nIn a medium saucepan, bring 1 liter of wat...   \n",
       "4752  ['\\nAdjust an oven rack to the middle position...   \n",
       "\n",
       "                                                Cuisine  \n",
       "0                 ['Tomato Sauces', 'Italian-American']  \n",
       "1                                              ['Beer']  \n",
       "2                             ['Winter Squash', 'Kale']  \n",
       "3                     ['Cheesecakes', 'Sweet Potatoes']  \n",
       "4     ['Butternut Squash', 'Thanksgiving', 'Thanksgi...  \n",
       "...                                                 ...  \n",
       "4748  ['Sandwiches', 'British', 'Bacon', 'Turkey', '...  \n",
       "4749  ['Sandwiches', 'Italian-American', 'Soul Food ...  \n",
       "4750  ['Chinese', 'Dairy-free Sides', 'Vegan Sides',...  \n",
       "4751                                           ['Beer']  \n",
       "4752  ['Baked Pasta', 'Italian-American', 'Pastas', ...  \n",
       "\n",
       "[4753 rows x 4 columns]"
      ]
     },
     "execution_count": 1,
     "metadata": {},
     "output_type": "execute_result"
    }
   ],
   "source": [
    "import pandas as pd\n",
    "import numpy as np\n",
    "\n",
    "# This is the result of running scraper.py. \n",
    "input_df = pd.read_csv('output.csv', encoding = 'cp1252')\n",
    "input_df\n"
   ]
  },
  {
   "cell_type": "markdown",
   "metadata": {},
   "source": [
    "# Prepare Data"
   ]
  },
  {
   "cell_type": "code",
   "execution_count": 20,
   "metadata": {},
   "outputs": [
    {
     "data": {
      "text/html": [
       "<div>\n",
       "<style scoped>\n",
       "    .dataframe tbody tr th:only-of-type {\n",
       "        vertical-align: middle;\n",
       "    }\n",
       "\n",
       "    .dataframe tbody tr th {\n",
       "        vertical-align: top;\n",
       "    }\n",
       "\n",
       "    .dataframe thead th {\n",
       "        text-align: right;\n",
       "    }\n",
       "</style>\n",
       "<table border=\"1\" class=\"dataframe\">\n",
       "  <thead>\n",
       "    <tr style=\"text-align: right;\">\n",
       "      <th></th>\n",
       "      <th>Cuisine</th>\n",
       "      <th>Ingredients</th>\n",
       "      <th>Steps</th>\n",
       "      <th>URL</th>\n",
       "    </tr>\n",
       "  </thead>\n",
       "  <tbody>\n",
       "    <tr>\n",
       "      <th>0</th>\n",
       "      <td>NorthAmerican</td>\n",
       "      <td>cans whole peeled tomatoes  preferably importe...</td>\n",
       "      <td>Adjust oven rack to lower position and preheat...</td>\n",
       "      <td>https://www.seriouseats.com/the-best-slow-cook...</td>\n",
       "    </tr>\n",
       "    <tr>\n",
       "      <th>1</th>\n",
       "      <td>Asian</td>\n",
       "      <td>Two -inch pieces fresh ginger   one piece peel...</td>\n",
       "      <td>In a medium mixing bowl  stir together grated ...</td>\n",
       "      <td>https://www.seriouseats.com/pork-ginger-buta-s...</td>\n",
       "    </tr>\n",
       "    <tr>\n",
       "      <th>2</th>\n",
       "      <td>Asian</td>\n",
       "      <td>pound finely minced Napa cabbage  tablespoon k...</td>\n",
       "      <td>For the Dumplings: Combine cabbage and 2 teasp...</td>\n",
       "      <td>https://www.seriouseats.com/the-best-japanese-...</td>\n",
       "    </tr>\n",
       "    <tr>\n",
       "      <th>3</th>\n",
       "      <td>Italian</td>\n",
       "      <td>to  ounces fresh sea urchin ; see note  / cup ...</td>\n",
       "      <td>Set aside 4 tongues of sea urchin to use as ga...</td>\n",
       "      <td>https://www.seriouseats.com/sea-urchin-uni-pas...</td>\n",
       "    </tr>\n",
       "    <tr>\n",
       "      <th>4</th>\n",
       "      <td>Asian</td>\n",
       "      <td>large eggs  ½ teaspoon lime juice or plain vin...</td>\n",
       "      <td>Combine eggs  lime juice or vinegar  fish sauc...</td>\n",
       "      <td>https://www.seriouseats.com/thai-style-omelet-...</td>\n",
       "    </tr>\n",
       "    <tr>\n",
       "      <th>...</th>\n",
       "      <td>...</td>\n",
       "      <td>...</td>\n",
       "      <td>...</td>\n",
       "      <td>...</td>\n",
       "    </tr>\n",
       "    <tr>\n",
       "      <th>1144</th>\n",
       "      <td>Mexican</td>\n",
       "      <td>pound dried black beans  Kosher salt  pounds c...</td>\n",
       "      <td>Place black beans in a large bowl and cover wi...</td>\n",
       "      <td>https://www.seriouseats.com/the-food-lab-black...</td>\n",
       "    </tr>\n",
       "    <tr>\n",
       "      <th>1145</th>\n",
       "      <td>Italian</td>\n",
       "      <td>quart cherry or plum tomatoes  split in half  ...</td>\n",
       "      <td>Adjust oven rack to center position and prehea...</td>\n",
       "      <td>https://www.seriouseats.com/pasta-oven-dried-t...</td>\n",
       "    </tr>\n",
       "    <tr>\n",
       "      <th>1146</th>\n",
       "      <td>NorthAmerican</td>\n",
       "      <td>hearty loaf of bread  preferably sesame-cruste...</td>\n",
       "      <td>Slice off the top 1 to 1 1/2-inches of the loa...</td>\n",
       "      <td>https://www.seriouseats.com/muffuletta-shooter...</td>\n",
       "    </tr>\n",
       "    <tr>\n",
       "      <th>1147</th>\n",
       "      <td>Asian</td>\n",
       "      <td>Kosher salt  ounces Shanghai baby bok choy  sp...</td>\n",
       "      <td>Bring a large pot of salted water to a boil. A...</td>\n",
       "      <td>https://www.seriouseats.com/shanghai-baby-bok-...</td>\n",
       "    </tr>\n",
       "    <tr>\n",
       "      <th>1148</th>\n",
       "      <td>NorthAmerican</td>\n",
       "      <td>pound ziti  penne  or other thick tubular past...</td>\n",
       "      <td>Adjust an oven rack to the middle position and...</td>\n",
       "      <td>https://www.seriouseats.com/food-lab-no-boil-b...</td>\n",
       "    </tr>\n",
       "  </tbody>\n",
       "</table>\n",
       "<p>1149 rows × 4 columns</p>\n",
       "</div>"
      ],
      "text/plain": [
       "            Cuisine                                        Ingredients  \\\n",
       "0     NorthAmerican  cans whole peeled tomatoes  preferably importe...   \n",
       "1             Asian  Two -inch pieces fresh ginger   one piece peel...   \n",
       "2             Asian  pound finely minced Napa cabbage  tablespoon k...   \n",
       "3           Italian  to  ounces fresh sea urchin ; see note  / cup ...   \n",
       "4             Asian  large eggs  ½ teaspoon lime juice or plain vin...   \n",
       "...             ...                                                ...   \n",
       "1144        Mexican  pound dried black beans  Kosher salt  pounds c...   \n",
       "1145        Italian  quart cherry or plum tomatoes  split in half  ...   \n",
       "1146  NorthAmerican  hearty loaf of bread  preferably sesame-cruste...   \n",
       "1147          Asian  Kosher salt  ounces Shanghai baby bok choy  sp...   \n",
       "1148  NorthAmerican  pound ziti  penne  or other thick tubular past...   \n",
       "\n",
       "                                                  Steps  \\\n",
       "0     Adjust oven rack to lower position and preheat...   \n",
       "1     In a medium mixing bowl  stir together grated ...   \n",
       "2     For the Dumplings: Combine cabbage and 2 teasp...   \n",
       "3     Set aside 4 tongues of sea urchin to use as ga...   \n",
       "4     Combine eggs  lime juice or vinegar  fish sauc...   \n",
       "...                                                 ...   \n",
       "1144  Place black beans in a large bowl and cover wi...   \n",
       "1145  Adjust oven rack to center position and prehea...   \n",
       "1146  Slice off the top 1 to 1 1/2-inches of the loa...   \n",
       "1147  Bring a large pot of salted water to a boil. A...   \n",
       "1148  Adjust an oven rack to the middle position and...   \n",
       "\n",
       "                                                    URL  \n",
       "0     https://www.seriouseats.com/the-best-slow-cook...  \n",
       "1     https://www.seriouseats.com/pork-ginger-buta-s...  \n",
       "2     https://www.seriouseats.com/the-best-japanese-...  \n",
       "3     https://www.seriouseats.com/sea-urchin-uni-pas...  \n",
       "4     https://www.seriouseats.com/thai-style-omelet-...  \n",
       "...                                                 ...  \n",
       "1144  https://www.seriouseats.com/the-food-lab-black...  \n",
       "1145  https://www.seriouseats.com/pasta-oven-dried-t...  \n",
       "1146  https://www.seriouseats.com/muffuletta-shooter...  \n",
       "1147  https://www.seriouseats.com/shanghai-baby-bok-...  \n",
       "1148  https://www.seriouseats.com/food-lab-no-boil-b...  \n",
       "\n",
       "[1149 rows x 4 columns]"
      ]
     },
     "execution_count": 20,
     "metadata": {},
     "output_type": "execute_result"
    }
   ],
   "source": [
    "cuisineMap = {\n",
    "    'Asian' : \"Asian\",\n",
    "    'Singaporean' : 'Asian',\n",
    "    'Filipino' : 'Asian', \n",
    "    'Korean' : 'Asian', \n",
    "    'SoutheastAsian' : 'Asian', \n",
    "    'EastAsian' : 'Asian', \n",
    "    'Chinese' : 'Asian', \n",
    "    'Vietnamese' : 'Asian', \n",
    "    'HungarianChinese-American' : 'Asian', \n",
    "    'Thai' : 'Asian', \n",
    "    'Japanese' : 'Asian', \n",
    "    'SouthAsian' : 'Asian', \n",
    "    'German' : 'German',\n",
    "    'NorthAmerican' : 'NorthAmerican',\n",
    "    'Canadian' : 'NorthAmerican', \n",
    "    'American' : 'NorthAmerican', \n",
    "    'SouthwesternTexMex' : 'NorthAmerican',\n",
    "    'Italian-American' : 'NorthAmerican', \n",
    "    'SoulFoodSouthern' : 'NorthAmerican', \n",
    "    'WestCoast' : 'NorthAmerican',\n",
    "    'CajunCreole' : 'NorthAmerican', \n",
    "    'NewEngland' : 'NorthAmerican', \n",
    "    'Midwestern' : 'NorthAmerican',\n",
    "    'Italian' : 'Italian',\n",
    "    'French' : 'French',\n",
    "    'SouthAmerican' : 'SouthAmerican',\n",
    "    'Brazilian' : 'SouthAmerican',\n",
    "    'Venezuelan' : 'SouthAmerican',\n",
    "    'Mexican':'Mexican',\n",
    "    'Mediterranean' : 'Mediterranean',\n",
    "    'Indian' : 'Indian'\n",
    "}\n",
    "\n",
    "\n",
    "# Get rid of bad text, and map the correct cuisine to the row\n",
    "def cleanCuisines(df):\n",
    "    dfMutated = pd.DataFrame()\n",
    "    for index, row in df.iterrows():\n",
    "        row['Cuisine'] = row['Cuisine'].replace('Cuisines',\"\").replace('Cuisine','').replace(\" \",'')\n",
    "        row['Cuisine'] = row['Cuisine'].replace('[','').replace(']','').replace('\\'','').split(',')\n",
    "        for ii in row['Cuisine']:\n",
    "            if ii in cuisineMap.keys():\n",
    "                newRow = {'URL': row['URL'],'Ingredients': row['Ingredients'],'Steps' : row['Steps'],'Cuisine':cuisineMap[ii]}\n",
    "                dfMutated = dfMutated.append(newRow,ignore_index=True)\n",
    "                break\n",
    "    return dfMutated\n",
    "\n",
    "\n",
    "# Make the steps into an actual list, while stripping it down to make it easier to read\n",
    "def cleanSteps(df):\n",
    "    for index, row in df.iterrows():\n",
    "        row['Steps'] = row['Steps'].replace('[','').replace(']','').replace('\\'','').replace('\\\\n','').split(',')\n",
    "        for i in row['Steps']:\n",
    "            i = i.strip()\n",
    "        row['Steps'] = \" \".join(row['Steps'])\n",
    "    return df\n",
    "\n",
    "\n",
    "# Clean the ingredients in a very similar way that we clean the steps\n",
    "def cleanIngredients(df):\n",
    "    for index, row in df.iterrows():\n",
    "        row['Ingredients'] = row['Ingredients'].replace('[','').replace(']','').replace('\\'','').split(',')\n",
    "        for i in row['Ingredients']:\n",
    "            i = i.strip()\n",
    "        row['Ingredients'] = \" \".join(row['Ingredients'])\n",
    "    return df\n",
    "\n",
    "\n",
    "\n",
    "\n",
    "\n",
    "processed_df = cleanCuisines(input_df)\n",
    "processed_df = cleanSteps(processed_df)\n",
    "processed_df = cleanIngredients(processed_df)\n",
    "processed_df"
   ]
  },
  {
   "cell_type": "code",
   "execution_count": 21,
   "metadata": {},
   "outputs": [],
   "source": [
    "#processed_df = processed_df[(processed_df['Cuisine'] == 'Asian') | (processed_df['Cuisine'] == 'NorthAmerican') | (processed_df['Cuisine'] == 'Italian') | (processed_df['Cuisine'] == 'Mexican') | (processed_df['Cuisine'] == 'French') | (processed_df['Cuisine'] == 'Indian')]"
   ]
  },
  {
   "cell_type": "markdown",
   "metadata": {},
   "source": [
    "# Visualizing Data"
   ]
  },
  {
   "cell_type": "code",
   "execution_count": 22,
   "metadata": {},
   "outputs": [
    {
     "data": {
      "image/png": "[encoded data removed]",
      "text/plain": [
       "<Figure size 1152x648 with 1 Axes>"
      ]
     },
     "metadata": {
      "needs_background": "light"
     },
     "output_type": "display_data"
    }
   ],
   "source": [
    "import matplotlib.pyplot as plt\n",
    "\n",
    "plt.figure(num = 9, figsize=(16,9))\n",
    "\n",
    "processed_df.Cuisine.value_counts().plot(kind = 'barh')\n",
    "\n",
    "plt.title(\"Value Counts of Labels\")\n",
    "plt.xlabel(\"Cuisines\")\n",
    "plt.ylabel(\"Value Count\")\n",
    "\n",
    "plt.show()\n"
   ]
  },
  {
   "cell_type": "code",
   "execution_count": 44,
   "metadata": {},
   "outputs": [
    {
     "data": {
      "image/png": "[encoded data removed]",
      "text/plain": [
       "<Figure size 720x720 with 1 Axes>"
      ]
     },
     "metadata": {},
     "output_type": "display_data"
    }
   ],
   "source": [
    "plt.figure(num = 1, figsize=(10,10))\n",
    "#processed_df.Cuisine.value_counts().plot(kind = 'pie')\n",
    "ax = plt.gca()\n",
    "fig = plt.gcf()\n",
    "fig.set_facecolor('xkcd:white')\n",
    "\n",
    "plt.pie(processed_df.Cuisine.value_counts(), labels = processed_df.Cuisine.value_counts().index,autopct='%1.1f%%')\n",
    "plt.title(\"Distribution of Cuisines\")\n",
    "\n",
    "plt.show()\n"
   ]
  },
  {
   "cell_type": "code",
   "execution_count": 45,
   "metadata": {},
   "outputs": [
    {
     "data": {
      "text/html": [
       "<div>\n",
       "<style scoped>\n",
       "    .dataframe tbody tr th:only-of-type {\n",
       "        vertical-align: middle;\n",
       "    }\n",
       "\n",
       "    .dataframe tbody tr th {\n",
       "        vertical-align: top;\n",
       "    }\n",
       "\n",
       "    .dataframe thead th {\n",
       "        text-align: right;\n",
       "    }\n",
       "</style>\n",
       "<table border=\"1\" class=\"dataframe\">\n",
       "  <thead>\n",
       "    <tr style=\"text-align: right;\">\n",
       "      <th></th>\n",
       "      <th>Cuisine</th>\n",
       "      <th>Ingredients</th>\n",
       "      <th>Steps</th>\n",
       "      <th>URL</th>\n",
       "      <th>Both</th>\n",
       "    </tr>\n",
       "  </thead>\n",
       "  <tbody>\n",
       "    <tr>\n",
       "      <th>0</th>\n",
       "      <td>NorthAmerican</td>\n",
       "      <td>cans whole peeled tomatoes  preferably importe...</td>\n",
       "      <td>Adjust oven rack to lower position and preheat...</td>\n",
       "      <td>https://www.seriouseats.com/the-best-slow-cook...</td>\n",
       "      <td>Adjust oven rack to lower position and preheat...</td>\n",
       "    </tr>\n",
       "    <tr>\n",
       "      <th>1</th>\n",
       "      <td>Asian</td>\n",
       "      <td>Two -inch pieces fresh ginger   one piece peel...</td>\n",
       "      <td>In a medium mixing bowl  stir together grated ...</td>\n",
       "      <td>https://www.seriouseats.com/pork-ginger-buta-s...</td>\n",
       "      <td>In a medium mixing bowl  stir together grated ...</td>\n",
       "    </tr>\n",
       "    <tr>\n",
       "      <th>2</th>\n",
       "      <td>Asian</td>\n",
       "      <td>pound finely minced Napa cabbage  tablespoon k...</td>\n",
       "      <td>For the Dumplings: Combine cabbage and 2 teasp...</td>\n",
       "      <td>https://www.seriouseats.com/the-best-japanese-...</td>\n",
       "      <td>For the Dumplings: Combine cabbage and 2 teasp...</td>\n",
       "    </tr>\n",
       "    <tr>\n",
       "      <th>3</th>\n",
       "      <td>Italian</td>\n",
       "      <td>to  ounces fresh sea urchin ; see note  / cup ...</td>\n",
       "      <td>Set aside 4 tongues of sea urchin to use as ga...</td>\n",
       "      <td>https://www.seriouseats.com/sea-urchin-uni-pas...</td>\n",
       "      <td>Set aside 4 tongues of sea urchin to use as ga...</td>\n",
       "    </tr>\n",
       "    <tr>\n",
       "      <th>4</th>\n",
       "      <td>Asian</td>\n",
       "      <td>large eggs  ½ teaspoon lime juice or plain vin...</td>\n",
       "      <td>Combine eggs  lime juice or vinegar  fish sauc...</td>\n",
       "      <td>https://www.seriouseats.com/thai-style-omelet-...</td>\n",
       "      <td>Combine eggs  lime juice or vinegar  fish sauc...</td>\n",
       "    </tr>\n",
       "  </tbody>\n",
       "</table>\n",
       "</div>"
      ],
      "text/plain": [
       "         Cuisine                                        Ingredients  \\\n",
       "0  NorthAmerican  cans whole peeled tomatoes  preferably importe...   \n",
       "1          Asian  Two -inch pieces fresh ginger   one piece peel...   \n",
       "2          Asian  pound finely minced Napa cabbage  tablespoon k...   \n",
       "3        Italian  to  ounces fresh sea urchin ; see note  / cup ...   \n",
       "4          Asian  large eggs  ½ teaspoon lime juice or plain vin...   \n",
       "\n",
       "                                               Steps  \\\n",
       "0  Adjust oven rack to lower position and preheat...   \n",
       "1  In a medium mixing bowl  stir together grated ...   \n",
       "2  For the Dumplings: Combine cabbage and 2 teasp...   \n",
       "3  Set aside 4 tongues of sea urchin to use as ga...   \n",
       "4  Combine eggs  lime juice or vinegar  fish sauc...   \n",
       "\n",
       "                                                 URL  \\\n",
       "0  https://www.seriouseats.com/the-best-slow-cook...   \n",
       "1  https://www.seriouseats.com/pork-ginger-buta-s...   \n",
       "2  https://www.seriouseats.com/the-best-japanese-...   \n",
       "3  https://www.seriouseats.com/sea-urchin-uni-pas...   \n",
       "4  https://www.seriouseats.com/thai-style-omelet-...   \n",
       "\n",
       "                                                Both  \n",
       "0  Adjust oven rack to lower position and preheat...  \n",
       "1  In a medium mixing bowl  stir together grated ...  \n",
       "2  For the Dumplings: Combine cabbage and 2 teasp...  \n",
       "3  Set aside 4 tongues of sea urchin to use as ga...  \n",
       "4  Combine eggs  lime juice or vinegar  fish sauc...  "
      ]
     },
     "execution_count": 45,
     "metadata": {},
     "output_type": "execute_result"
    }
   ],
   "source": [
    "processed_df.head()"
   ]
  },
  {
   "cell_type": "markdown",
   "metadata": {},
   "source": [
    "# Text Processing and Feature Extraction"
   ]
  },
  {
   "cell_type": "code",
   "execution_count": 23,
   "metadata": {},
   "outputs": [
    {
     "data": {
      "text/plain": [
       "CountVectorizer(min_df=0, stop_words='english')"
      ]
     },
     "execution_count": 23,
     "metadata": {},
     "output_type": "execute_result"
    }
   ],
   "source": [
    "from sklearn.feature_extraction.text import CountVectorizer\n",
    "\n",
    "processed_df['Both'] = processed_df['Steps'] + processed_df['Ingredients']\n",
    "\n",
    "sentences = processed_df['Both'].to_list()\n",
    "\n",
    "\n",
    "vectorizer = CountVectorizer(min_df=0, stop_words='english')\n",
    "\n",
    "vectorizer.fit(sentences)\n"
   ]
  },
  {
   "cell_type": "code",
   "execution_count": 24,
   "metadata": {},
   "outputs": [],
   "source": [
    "word_to_index = vectorizer.vocabulary_\n",
    "\n",
    "index_to_word = {v: k for k,v in vectorizer.vocabulary_.items()}\n",
    "\n",
    "x = vectorizer.transform(sentences).toarray()\n",
    "\n",
    "\n",
    "uniqueLabels = sorted(list(processed_df.Cuisine.unique()))\n",
    "label_to_int = {l:i for i, l in enumerate(uniqueLabels)}\n",
    "int_to_label = {i:l for i, l in enumerate(uniqueLabels)}\n",
    "\n",
    "def getLabelFromInt(number, key):\n",
    "    return key[number]\n",
    "def getIntFromLabel(label, key):\n",
    "    return key[label]\n",
    "\n",
    "fullY = processed_df.Cuisine\n",
    "\n",
    "y = np.array([getIntFromLabel(y, label_to_int) for y in fullY])\n"
   ]
  },
  {
   "cell_type": "markdown",
   "metadata": {},
   "source": [
    "# Splitting data into Train/Test Split"
   ]
  },
  {
   "cell_type": "code",
   "execution_count": 25,
   "metadata": {},
   "outputs": [],
   "source": [
    "from sklearn.model_selection import train_test_split\n",
    "from keras.utils.np_utils import to_categorical\n",
    "\n",
    "x_train, x_test, y_train, y_test = train_test_split(x,y, test_size=.2, random_state = 74)\n",
    "\n",
    "y_train_nn = to_categorical(y_train)\n",
    "y_test_nn = to_categorical(y_test)\n"
   ]
  },
  {
   "cell_type": "markdown",
   "metadata": {},
   "source": [
    "# Building Models"
   ]
  },
  {
   "cell_type": "code",
   "execution_count": 46,
   "metadata": {},
   "outputs": [
    {
     "name": "stderr",
     "output_type": "stream",
     "text": [
      "C:\\Users\\jd74h\\AppData\\Local\\Programs\\Python\\Python38\\lib\\site-packages\\sklearn\\model_selection\\_search.py:292: UserWarning: The total space of parameters 4 is smaller than n_iter=100. Running 4 iterations. For exhaustive searches, use GridSearchCV.\n",
      "  warnings.warn(\n",
      "C:\\Users\\jd74h\\AppData\\Local\\Programs\\Python\\Python38\\lib\\site-packages\\sklearn\\model_selection\\_split.py:676: UserWarning: The least populated class in y has only 8 members, which is less than n_splits=10.\n",
      "  warnings.warn(\n"
     ]
    },
    {
     "name": "stdout",
     "output_type": "stream",
     "text": [
      "{'splitter': 'best', 'criterion': 'entropy'}\n"
     ]
    },
    {
     "data": {
      "text/plain": [
       "0.5782608695652174"
      ]
     },
     "execution_count": 46,
     "metadata": {},
     "output_type": "execute_result"
    }
   ],
   "source": [
    "from sklearn.tree import DecisionTreeClassifier\n",
    "from sklearn.model_selection import RandomizedSearchCV\n",
    "from sklearn.metrics import accuracy_score\n",
    "\n",
    "estimator = DecisionTreeClassifier()\n",
    "params = {\n",
    "    'criterion': ['gini','entropy'],\n",
    "    'splitter' : ['best','random']\n",
    "}\n",
    "\n",
    "dtclf = RandomizedSearchCV(estimator, params, n_iter = 100, cv = 10)\n",
    "\n",
    "dtclf.fit(x_train,y_train)\n",
    "\n",
    "print(dtclf.best_params_)\n",
    "\n",
    "accuracy_score(dtclf.predict(x_test), y_test)"
   ]
  },
  {
   "cell_type": "code",
   "execution_count": 27,
   "metadata": {},
   "outputs": [
    {
     "name": "stderr",
     "output_type": "stream",
     "text": [
      "C:\\Users\\jd74h\\AppData\\Local\\Programs\\Python\\Python38\\lib\\site-packages\\sklearn\\model_selection\\_search.py:292: UserWarning: The total space of parameters 76 is smaller than n_iter=100. Running 76 iterations. For exhaustive searches, use GridSearchCV.\n",
      "  warnings.warn(\n",
      "C:\\Users\\jd74h\\AppData\\Local\\Programs\\Python\\Python38\\lib\\site-packages\\sklearn\\model_selection\\_split.py:676: UserWarning: The least populated class in y has only 8 members, which is less than n_splits=10.\n",
      "  warnings.warn(\n"
     ]
    },
    {
     "data": {
      "text/plain": [
       "0.6173913043478261"
      ]
     },
     "execution_count": 27,
     "metadata": {},
     "output_type": "execute_result"
    }
   ],
   "source": [
    "from sklearn.neighbors import KNeighborsClassifier\n",
    "\n",
    "estimator = KNeighborsClassifier()\n",
    "params = {\n",
    "    'n_neighbors' : [i for i in range(5,100,5)],\n",
    "    'algorithm' : ['auto', 'ball_tree', 'kd_tree', 'brute']\n",
    "}\n",
    "\n",
    "knnModel = RandomizedSearchCV(estimator, params, n_iter = 100, cv = 10)\n",
    "\n",
    "knnModel.fit(x_train,y_train)\n",
    "\n",
    "accuracy_score(knnModel.predict(x_test), y_test)"
   ]
  },
  {
   "cell_type": "code",
   "execution_count": 47,
   "metadata": {},
   "outputs": [
    {
     "data": {
      "text/plain": [
       "{'n_neighbors': 5, 'algorithm': 'auto'}"
      ]
     },
     "execution_count": 47,
     "metadata": {},
     "output_type": "execute_result"
    }
   ],
   "source": [
    "knnModel.best_params_"
   ]
  },
  {
   "cell_type": "code",
   "execution_count": 28,
   "metadata": {},
   "outputs": [
    {
     "name": "stderr",
     "output_type": "stream",
     "text": [
      "C:\\Users\\jd74h\\AppData\\Local\\Programs\\Python\\Python38\\lib\\site-packages\\sklearn\\model_selection\\_search.py:292: UserWarning: The total space of parameters 8 is smaller than n_iter=100. Running 8 iterations. For exhaustive searches, use GridSearchCV.\n",
      "  warnings.warn(\n",
      "C:\\Users\\jd74h\\AppData\\Local\\Programs\\Python\\Python38\\lib\\site-packages\\sklearn\\model_selection\\_split.py:676: UserWarning: The least populated class in y has only 8 members, which is less than n_splits=10.\n",
      "  warnings.warn(\n"
     ]
    },
    {
     "data": {
      "text/plain": [
       "0.7521739130434782"
      ]
     },
     "execution_count": 28,
     "metadata": {},
     "output_type": "execute_result"
    }
   ],
   "source": [
    "from sklearn.ensemble import RandomForestClassifier\n",
    "\n",
    "estimator = RandomForestClassifier()\n",
    "params = {\n",
    "    'n_estimators' : [i for i in range(100,1000,250)],\n",
    "    'criterion' : ['gini','entropy']\n",
    "}\n",
    "\n",
    "rfclf = RandomizedSearchCV(estimator, params, n_iter = 100, cv=10)\n",
    "\n",
    "rfclf.fit(x_train,y_train)\n",
    "\n",
    "accuracy_score(rfclf.predict(x_test),y_test)"
   ]
  },
  {
   "cell_type": "code",
   "execution_count": 48,
   "metadata": {},
   "outputs": [
    {
     "data": {
      "text/plain": [
       "{'n_estimators': 850, 'criterion': 'gini'}"
      ]
     },
     "execution_count": 48,
     "metadata": {},
     "output_type": "execute_result"
    }
   ],
   "source": [
    "rfclf.best_params_"
   ]
  },
  {
   "cell_type": "code",
   "execution_count": 29,
   "metadata": {},
   "outputs": [
    {
     "data": {
      "text/plain": [
       "0.6521739130434783"
      ]
     },
     "execution_count": 29,
     "metadata": {},
     "output_type": "execute_result"
    }
   ],
   "source": [
    "from sklearn.naive_bayes import GaussianNB\n",
    "\n",
    "nbclf = GaussianNB()\n",
    "\n",
    "nbclf.fit(x_train,y_train)\n",
    "\n",
    "accuracy_score(nbclf.predict(x_test),y_test)"
   ]
  },
  {
   "cell_type": "code",
   "execution_count": 49,
   "metadata": {},
   "outputs": [
    {
     "name": "stdout",
     "output_type": "stream",
     "text": [
      "Epoch 1/100\n",
      "23/23 [==============================] - 4s 47ms/step - loss: 1.8372 - accuracy: 0.4190 - val_loss: 1.5219 - val_accuracy: 0.5761\n",
      "Epoch 2/100\n",
      "23/23 [==============================] - 0s 17ms/step - loss: 1.1453 - accuracy: 0.6136 - val_loss: 1.0597 - val_accuracy: 0.6630\n",
      "Epoch 3/100\n",
      "23/23 [==============================] - 0s 17ms/step - loss: 0.6178 - accuracy: 0.8503 - val_loss: 0.8491 - val_accuracy: 0.7446\n",
      "Epoch 4/100\n",
      "23/23 [==============================] - 0s 16ms/step - loss: 0.2843 - accuracy: 0.9497 - val_loss: 0.7939 - val_accuracy: 0.7609\n",
      "Epoch 5/100\n",
      "23/23 [==============================] - 0s 15ms/step - loss: 0.1337 - accuracy: 0.9714 - val_loss: 0.9538 - val_accuracy: 0.7446\n",
      "Epoch 6/100\n",
      "23/23 [==============================] - 0s 14ms/step - loss: 0.0714 - accuracy: 0.9891 - val_loss: 0.8946 - val_accuracy: 0.7663\n",
      "Epoch 7/100\n",
      "23/23 [==============================] - 0s 14ms/step - loss: 0.0385 - accuracy: 0.9986 - val_loss: 0.9421 - val_accuracy: 0.7609\n",
      "Epoch 8/100\n",
      "23/23 [==============================] - 0s 18ms/step - loss: 0.0246 - accuracy: 1.0000 - val_loss: 0.9087 - val_accuracy: 0.7446\n",
      "Epoch 9/100\n",
      "23/23 [==============================] - 0s 15ms/step - loss: 0.0150 - accuracy: 1.0000 - val_loss: 0.9787 - val_accuracy: 0.7609\n",
      "Epoch 10/100\n",
      "23/23 [==============================] - 0s 15ms/step - loss: 0.0102 - accuracy: 1.0000 - val_loss: 0.9974 - val_accuracy: 0.7609\n",
      "Epoch 11/100\n",
      "23/23 [==============================] - 0s 14ms/step - loss: 0.0075 - accuracy: 1.0000 - val_loss: 1.0265 - val_accuracy: 0.7663\n",
      "Epoch 12/100\n",
      "23/23 [==============================] - 0s 15ms/step - loss: 0.0062 - accuracy: 1.0000 - val_loss: 1.0552 - val_accuracy: 0.7663\n",
      "Epoch 13/100\n",
      "23/23 [==============================] - 0s 16ms/step - loss: 0.0051 - accuracy: 1.0000 - val_loss: 1.0525 - val_accuracy: 0.7609\n",
      "Epoch 14/100\n",
      "23/23 [==============================] - 0s 17ms/step - loss: 0.0039 - accuracy: 1.0000 - val_loss: 1.0526 - val_accuracy: 0.7609\n",
      "8/8 [==============================] - 0s 4ms/step - loss: 0.8759 - accuracy: 0.8087\n"
     ]
    },
    {
     "data": {
      "text/plain": [
       "[0.8759010434150696, 0.8086956739425659]"
      ]
     },
     "execution_count": 49,
     "metadata": {},
     "output_type": "execute_result"
    }
   ],
   "source": [
    "import keras\n",
    "from keras.layers import Dense, LSTM, Dropout\n",
    "from keras.callbacks import EarlyStopping, ModelCheckpoint\n",
    "\n",
    "x_train_nn = np.expand_dims(x_train,1)\n",
    "x_test_nn = np.expand_dims(x_test,1)\n",
    "\n",
    "keras_callbacks = [\n",
    "    EarlyStopping(patience=10,min_delta=.000001),\n",
    "    ModelCheckpoint('modelCheckpoint.h5', save_best_only=True)\n",
    "]\n",
    "\n",
    "model = keras.Sequential()\n",
    "model.add(LSTM(120, input_shape = x_train_nn.shape[1:], return_sequences=True))\n",
    "model.add(Dropout(.25))\n",
    "model.add(LSTM(120))\n",
    "#model.add(Dropout(.1))\n",
    "#model.add(Dense(100))\n",
    "model.add(Dense(9, activation='softmax'))\n",
    "\n",
    "model.compile(optimizer='adam', loss='categorical_crossentropy',metrics=['accuracy'])\n",
    "\n",
    "train_history = model.fit(x_train_nn,y_train_nn, epochs = 100,callbacks = keras_callbacks, validation_split = .2)\n",
    "\n",
    "model.evaluate(x_test_nn, y_test_nn)"
   ]
  },
  {
   "cell_type": "code",
   "execution_count": 61,
   "metadata": {},
   "outputs": [
    {
     "data": {
      "image/png": "[encoded data removed]",
      "text/plain": [
       "<Figure size 1152x648 with 1 Axes>"
      ]
     },
     "metadata": {
      "needs_background": "light"
     },
     "output_type": "display_data"
    },
    {
     "data": {
      "image/png": "[encoded data removed]",
      "text/plain": [
       "<Figure size 1152x648 with 1 Axes>"
      ]
     },
     "metadata": {
      "needs_background": "light"
     },
     "output_type": "display_data"
    }
   ],
   "source": [
    "plt.figure(num=10, figsize = (16,9))\n",
    "plt.plot(train_history.history['val_loss'])\n",
    "plt.plot(train_history.history['loss'])\n",
    "plt.title(\"Loss while training\")\n",
    "plt.xlabel(\"Epochs\")\n",
    "plt.ylabel(\"Loss\")\n",
    "plt.legend(['Train','Validation'], loc = 'upper right')\n",
    "plt.show()\n",
    "\n",
    "plt.figure(num=11, figsize=(16,9))\n",
    "plt.plot(train_history.history['accuracy'])\n",
    "plt.plot(train_history.history['val_accuracy'])\n",
    "plt.title(\"Accuracy while training\")\n",
    "plt.xlabel(\"Epochs\")\n",
    "plt.ylabel(\"Accuracy\")\n",
    "plt.legend(['Train','Validation'], loc = 'upper right')\n",
    "plt.show()"
   ]
  }
 ],
 "metadata": {
  "interpreter": {
   "hash": "c3d9d05e170f87cd6f1b81462ce2256ce492f347a75bd17a880ad7d91b8fd7ce"
  },
  "kernelspec": {
   "display_name": "Python 3.9.9 64-bit (windows store)",
   "language": "python",
   "name": "python3"
  },
  "language_info": {
   "codemirror_mode": {
    "name": "ipython",
    "version": 3
   },
   "file_extension": ".py",
   "mimetype": "text/x-python",
   "name": "python",
   "nbconvert_exporter": "python",
   "pygments_lexer": "ipython3",
   "version": "3.8.0"
  },
  "orig_nbformat": 4
 },
 "nbformat": 4,
 "nbformat_minor": 2
}
